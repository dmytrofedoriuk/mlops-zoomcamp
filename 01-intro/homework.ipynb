{
 "cells": [
  {
   "cell_type": "markdown",
   "id": "649fdb4e",
   "metadata": {},
   "source": [
    "## Homework\n",
    "\n",
    "The goal of this homework is to train a simple model for predicting the duration of a ride - similar to what we did in this module."
   ]
  },
  {
   "cell_type": "markdown",
   "id": "9060a0b4",
   "metadata": {},
   "source": [
    "### Q1. Downloading the data\n",
    "We'll use the same NYC taxi dataset, but instead of \"Green Taxi Trip Records\", we'll use \"Yellow Taxi Trip Records\".\n",
    "\n",
    "Download the data for January and February 2023.\n",
    "\n",
    "Read the data for January. How many columns are there?"
   ]
  },
  {
   "cell_type": "code",
   "execution_count": 1,
   "id": "c430267d",
   "metadata": {},
   "outputs": [],
   "source": [
    "import pandas as pd\n",
    "import numpy as np\n",
    "\n",
    "from sklearn.feature_extraction import DictVectorizer\n",
    "from sklearn.linear_model import LinearRegression\n",
    "from sklearn.metrics import mean_squared_error"
   ]
  },
  {
   "cell_type": "code",
   "execution_count": 2,
   "id": "7549b457",
   "metadata": {},
   "outputs": [
    {
     "name": "stdout",
     "output_type": "stream",
     "text": [
      "Answer to question #1 is: 19 columns\n"
     ]
    }
   ],
   "source": [
    "df = pd.read_parquet(\"data/yellow_tripdata_2023-01.parquet\")\n",
    "df_valid = pd.read_parquet(\"data/yellow_tripdata_2023-02.parquet\")\n",
    "\n",
    "print(f\"Answer to question #1 is: {len(df.columns)} columns\")"
   ]
  },
  {
   "cell_type": "markdown",
   "id": "f3ba1429",
   "metadata": {},
   "source": [
    "### Q2. Computing duration\n",
    "Now let's compute the duration variable. It should contain the duration of a ride in minutes.\n",
    "\n",
    "What's the standard deviation of the trips duration in January?"
   ]
  },
  {
   "cell_type": "code",
   "execution_count": 3,
   "id": "57585e34",
   "metadata": {},
   "outputs": [
    {
     "name": "stdout",
     "output_type": "stream",
     "text": [
      "Answer to question #2 is: 42.59\n"
     ]
    }
   ],
   "source": [
    "df['duration'] = (df['tpep_dropoff_datetime'] - df['tpep_pickup_datetime']).dt.total_seconds() / 60\n",
    "print(f\"Answer to question #2 is: {round(df['duration'].std(), 2)}\")"
   ]
  },
  {
   "cell_type": "markdown",
   "id": "cc4e04bf",
   "metadata": {},
   "source": [
    "### Q3. Dropping outliers\n",
    "Next, we need to check the distribution of the duration variable. There are some outliers. Let's remove them and keep only the records where the duration was between 1 and 60 minutes (inclusive).\n",
    "\n",
    "What fraction of the records left after you dropped the outliers?"
   ]
  },
  {
   "cell_type": "code",
   "execution_count": 4,
   "id": "97824b89",
   "metadata": {},
   "outputs": [
    {
     "name": "stdout",
     "output_type": "stream",
     "text": [
      "Answer to question #3 is: 98%\n"
     ]
    }
   ],
   "source": [
    "df['is_outlier'] = np.where((df['duration'] >= 60) | (df['duration'] <= 1), 1, 0)\n",
    "perc_of_recs_remained = round(100 - (100 * df[df['is_outlier'] == 1].shape[0] / df.shape[0]))\n",
    "\n",
    "df = df[df['is_outlier'] == 0]\n",
    "\n",
    "print(f\"Answer to question #3 is: {perc_of_recs_remained}%\")"
   ]
  },
  {
   "cell_type": "markdown",
   "id": "48b50e92",
   "metadata": {},
   "source": [
    "### Q4. One-hot encoding\n",
    "Let's apply one-hot encoding to the pickup and dropoff location IDs. We'll use only these two features for our model.\n",
    "\n",
    "Turn the dataframe into a list of dictionaries (remember to re-cast the ids to strings - otherwise it will label encode them)\n",
    "Fit a dictionary vectorizer\n",
    "Get a feature matrix from it\n",
    "What's the dimensionality of this matrix (number of columns)?"
   ]
  },
  {
   "cell_type": "code",
   "execution_count": 5,
   "id": "e9dee07f",
   "metadata": {},
   "outputs": [
    {
     "name": "stdout",
     "output_type": "stream",
     "text": [
      "Answer to question #4 is: 515 columns\n"
     ]
    }
   ],
   "source": [
    "df['PULocationID'] = df['PULocationID'].astype('str')\n",
    "df['DOLocationID'] = df['DOLocationID'].astype('str')\n",
    "\n",
    "df_to_ohe = df[['PULocationID', 'DOLocationID']].to_dict(orient='records')\n",
    "\n",
    "v = DictVectorizer()\n",
    "X = v.fit_transform(df_to_ohe)\n",
    "\n",
    "print(f\"Answer to question #4 is: {X.shape[1]} columns\")"
   ]
  },
  {
   "cell_type": "markdown",
   "id": "413afa65",
   "metadata": {},
   "source": [
    "### Q5. Training a model\n",
    "Now let's use the feature matrix from the previous step to train a model.\n",
    "\n",
    "Train a plain linear regression model with default parameters, where duration is the response variable\n",
    "Calculate the RMSE of the model on the training data\n",
    "What's the RMSE on train?"
   ]
  },
  {
   "cell_type": "code",
   "execution_count": 6,
   "id": "791e29f6",
   "metadata": {},
   "outputs": [
    {
     "name": "stdout",
     "output_type": "stream",
     "text": [
      "Answer to question #5 is: 7.65\n"
     ]
    }
   ],
   "source": [
    "y = df['duration']\n",
    "\n",
    "reg = LinearRegression().fit(X, y)\n",
    "y_pred = reg.predict(X)\n",
    "\n",
    "rms = mean_squared_error(y, y_pred, squared=False)\n",
    "print(f\"Answer to question #5 is: {round(rms, 2)}\")"
   ]
  },
  {
   "cell_type": "markdown",
   "id": "d966a274",
   "metadata": {},
   "source": [
    "### Q6. Evaluating the model\n",
    "Now let's apply this model to the validation dataset (February 2023).\n",
    "\n",
    "What's the RMSE on validation?"
   ]
  },
  {
   "cell_type": "code",
   "execution_count": 7,
   "id": "e3fc5354",
   "metadata": {},
   "outputs": [
    {
     "name": "stdout",
     "output_type": "stream",
     "text": [
      "Answer to question #5 is: 7.81\n"
     ]
    }
   ],
   "source": [
    "df_valid['PULocationID'] = df_valid['PULocationID'].astype('str')\n",
    "df_valid['DOLocationID'] = df_valid['DOLocationID'].astype('str')\n",
    "df_valid['duration'] = (df_valid['tpep_dropoff_datetime'] - df_valid['tpep_pickup_datetime']).dt.total_seconds() / 60\n",
    "df_valid = df_valid[(df_valid.duration >= 1) & (df_valid.duration <= 60)]\n",
    "\n",
    "df_valid_to_ohe = df_valid[['PULocationID', 'DOLocationID']].to_dict(orient='records')\n",
    "\n",
    "X_valid = v.transform(df_valid_to_ohe)\n",
    "y_valid = df_valid['duration']\n",
    "\n",
    "y_valid_pred = reg.predict(X_valid)\n",
    "\n",
    "rms_valid = mean_squared_error(y_valid, y_valid_pred, squared=False)\n",
    "print(f\"Answer to question #5 is: {round(rms_valid, 2)}\")"
   ]
  }
 ],
 "metadata": {
  "kernelspec": {
   "display_name": "Python 3 (ipykernel)",
   "language": "python",
   "name": "python3"
  },
  "language_info": {
   "codemirror_mode": {
    "name": "ipython",
    "version": 3
   },
   "file_extension": ".py",
   "mimetype": "text/x-python",
   "name": "python",
   "nbconvert_exporter": "python",
   "pygments_lexer": "ipython3",
   "version": "3.9.12"
  }
 },
 "nbformat": 4,
 "nbformat_minor": 5
}
